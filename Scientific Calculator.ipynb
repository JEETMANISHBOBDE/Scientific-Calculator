{
  "nbformat": 4,
  "nbformat_minor": 0,
  "metadata": {
    "colab": {
      "provenance": [],
      "authorship_tag": "ABX9TyOkJfm4FpES4UENpC38+lIG",
      "include_colab_link": true
    },
    "kernelspec": {
      "name": "python3",
      "display_name": "Python 3"
    },
    "language_info": {
      "name": "python"
    }
  },
  "cells": [
    {
      "cell_type": "markdown",
      "metadata": {
        "id": "view-in-github",
        "colab_type": "text"
      },
      "source": [
        "<a href=\"https://colab.research.google.com/github/JEETMANISHBOBDE/Scientific-Calculator/blob/main/Scientific%20Calculator.ipynb\" target=\"_parent\"><img src=\"https://colab.research.google.com/assets/colab-badge.svg\" alt=\"Open In Colab\"/></a>"
      ]
    },
    {
      "cell_type": "code",
      "execution_count": null,
      "metadata": {
        "id": "sBoMorGSDcb0"
      },
      "outputs": [],
      "source": [
        "import math\n",
        "\n",
        "def add(x, y):\n",
        "    return x + y\n",
        "\n",
        "def subtract(x, y):\n",
        "    return x - y\n",
        "\n",
        "def multiply(x, y):\n",
        "    return x * y\n",
        "\n",
        "def divide(x, y):\n",
        "    if y == 0:\n",
        "        return 'Error! Division by zero is not allowed.'\n",
        "    else:\n",
        "        return x / y\n",
        "\n",
        "def exponent(x, y):\n",
        "    return x ** y\n",
        "\n",
        "def logarithm(x, base):\n",
        "    return math.log(x, base)\n",
        "\n",
        "def trigonometry(x, function):\n",
        "    if function == 'sin':\n",
        "        return math.sin(math.radians(x))\n",
        "    elif function == 'cos':\n",
        "        return math.cos(math.radians(x))\n",
        "    elif function == 'tan':\n",
        "        return math.tan(math.radians(x))\n",
        "    else:\n",
        "        return 'Error! Invalid function. Please use sin, cos, or tan.'\n",
        "\n",
        "while True:\n",
        "    print(\"\\nScientific Calculator\")\n",
        "    print(\"1. Add\")\n",
        "    print(\"2. Subtract\")\n",
        "    print(\"3. Multiply\")\n",
        "    print(\"4. Divide\")\n",
        "    print(\"5. Exponent\")\n",
        "    print(\"6. Logarithm\")\n",
        "    print(\"7. Sin\")\n",
        "    print(\"8. Cos\")\n",
        "    print(\"9. Tan\")\n",
        "    print(\"0. Quit\")\n",
        "\n",
        "    option = input(\"\\nEnter your choice: \")\n",
        "\n",
        "    if option == '0':\n",
        "        break\n",
        "\n",
        "    try:\n",
        "        num1 = float(input(\"Enter first number: \"))\n",
        "        num2 = float(input(\"Enter second number: \"))\n",
        "\n",
        "        if option == '1':\n",
        "            print(\"\\nResult: \", add(num1, num2))\n",
        "        elif option == '2':\n",
        "            print(\"\\nResult: \", subtract(num1, num2))\n",
        "        elif option == '3':\n",
        "            print(\"\\nResult: \", multiply(num1, num2))"
      ]
    }
  ]
}